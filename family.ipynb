{
 "cells": [
  {
   "cell_type": "code",
   "execution_count": 1,
   "metadata": {},
   "outputs": [
    {
     "name": "stdout",
     "output_type": "stream",
     "text": [
      "    Bedrooms  Area Safety (0-10)  Distance to School (km)  \\\n",
      "0          4                   2                     4.78   \n",
      "1          4                   4                     3.54   \n",
      "2          1                   9                     1.54   \n",
      "3          5                   1                     4.22   \n",
      "4          1                   8                     1.56   \n",
      "..       ...                 ...                      ...   \n",
      "95         2                   9                     0.76   \n",
      "96         4                   1                     3.56   \n",
      "97         1                   9                     1.05   \n",
      "98         1                   9                     0.61   \n",
      "99         5                   2                     3.10   \n",
      "\n",
      "    Distance to Church (km)  Garden (0-No, 1-Yes)  House Age (Years)  \\\n",
      "0                      3.29                     0                 27   \n",
      "1                      3.88                     0                 21   \n",
      "2                      1.02                     1                  8   \n",
      "3                      3.16                     0                 21   \n",
      "4                      1.33                     1                  7   \n",
      "..                      ...                   ...                ...   \n",
      "95                     0.53                     1                  5   \n",
      "96                     3.35                     0                 23   \n",
      "97                     1.96                     1                  4   \n",
      "98                     0.75                     1                  1   \n",
      "99                     4.06                     0                 29   \n",
      "\n",
      "      Family Suitability  \n",
      "0    Not Good for Family  \n",
      "1    Not Good for Family  \n",
      "2   Yes, Good for Family  \n",
      "3    Not Good for Family  \n",
      "4    Not Good for Family  \n",
      "..                   ...  \n",
      "95  Yes, Good for Family  \n",
      "96   Not Good for Family  \n",
      "97  Yes, Good for Family  \n",
      "98  Yes, Good for Family  \n",
      "99   Not Good for Family  \n",
      "\n",
      "[100 rows x 7 columns]\n"
     ]
    }
   ],
   "source": [
    "import pandas\n",
    "data=pandas.read_csv(\"family_suitability.csv\")\n",
    "print(data)"
   ]
  },
  {
   "cell_type": "code",
   "execution_count": null,
   "metadata": {},
   "outputs": [],
   "source": []
  }
 ],
 "metadata": {
  "kernelspec": {
   "display_name": "Python 3",
   "language": "python",
   "name": "python3"
  },
  "language_info": {
   "codemirror_mode": {
    "name": "ipython",
    "version": 3
   },
   "file_extension": ".py",
   "mimetype": "text/x-python",
   "name": "python",
   "nbconvert_exporter": "python",
   "pygments_lexer": "ipython3",
   "version": "3.12.3"
  }
 },
 "nbformat": 4,
 "nbformat_minor": 2
}
